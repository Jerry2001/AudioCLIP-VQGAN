{
 "cells": [
  {
   "cell_type": "code",
   "execution_count": 35,
   "metadata": {},
   "outputs": [],
   "source": [
    "# Originally made by Katherine Crowson (https://github.com/crowsonkb, https://twitter.com/RiversHaveWings)\n",
    "# The original BigGAN+CLIP method was by https://twitter.com/advadnoun\n",
    "\n",
    "import argparse\n",
    "import math\n",
    "import random\n",
    "# from email.policy import default\n",
    "from urllib.request import urlopen\n",
    "from tqdm import tqdm\n",
    "import sys\n",
    "import os\n",
    "\n",
    "# pip install taming-transformers doesn't work with Gumbel, but does not yet work with coco etc\n",
    "# appending the path does work with Gumbel, but gives ModuleNotFoundError: No module named 'transformers' for coco etc\n",
    "sys.path.append('taming-transformers')\n",
    "\n",
    "from omegaconf import OmegaConf\n",
    "from taming.models import cond_transformer, vqgan\n",
    "#import taming.modules \n",
    "\n",
    "import torch\n",
    "from torch import nn, optim\n",
    "from torch.nn import functional as F\n",
    "from torchvision import transforms\n",
    "from torchvision.transforms import functional as TF\n",
    "from torch.cuda import get_device_properties\n",
    "torch.backends.cudnn.benchmark = False\t\t# NR: True is a bit faster, but can lead to OOM. False is more deterministic.\n",
    "#torch.use_deterministic_algorithms(True)\t# NR: grid_sampler_2d_backward_cuda does not have a deterministic implementation\n",
    "\n",
    "from torch_optimizer import DiffGrad, AdamP, RAdam\n",
    "\n",
    "from CLIP import clip\n",
    "import kornia.augmentation as K\n",
    "import numpy as np\n",
    "import imageio\n",
    "\n",
    "from PIL import ImageFile, Image, PngImagePlugin, ImageChops\n",
    "ImageFile.LOAD_TRUNCATED_IMAGES = True\n",
    "\n",
    "from subprocess import Popen, PIPE\n",
    "import re\n",
    "\n",
    "# Supress warnings\n",
    "import warnings\n",
    "warnings.filterwarnings('ignore')"
   ]
  },
  {
   "cell_type": "code",
   "execution_count": 36,
   "metadata": {},
   "outputs": [],
   "source": [
    "#AudioCLIP\n",
    "\n",
    "import glob\n",
    "\n",
    "import librosa\n",
    "import librosa.display\n",
    "\n",
    "import simplejpeg\n",
    "\n",
    "import torchvision as tv\n",
    "\n",
    "import matplotlib.pyplot as plt\n",
    "\n",
    "from PIL import Image\n",
    "from IPython.display import Audio, display\n",
    "\n",
    "sys.path.append('AudioCLIP')\n",
    "\n",
    "from model import AudioCLIP\n",
    "from utils.transforms import ToTensor1D\n",
    "\n",
    "MODEL_FILENAME = 'AudioCLIP-Full-Training.pt'\n",
    "# derived from ESResNeXt\n",
    "SAMPLE_RATE = 44100\n",
    "# derived from CLIP\n",
    "IMAGE_SIZE = 224\n",
    "IMAGE_MEAN = 0.48145466, 0.4578275, 0.40821073\n",
    "IMAGE_STD = 0.26862954, 0.26130258, 0.27577711"
   ]
  },
  {
   "cell_type": "code",
   "execution_count": 37,
   "metadata": {},
   "outputs": [
    {
     "data": {
      "text/plain": [
       "<torch.autograd.grad_mode.set_grad_enabled at 0x7ff5e8b87910>"
      ]
     },
     "execution_count": 37,
     "metadata": {},
     "output_type": "execute_result"
    }
   ],
   "source": [
    "torch.set_grad_enabled(True)"
   ]
  },
  {
   "cell_type": "markdown",
   "metadata": {},
   "source": [
    "# AudioCLIP"
   ]
  },
  {
   "cell_type": "code",
   "execution_count": 38,
   "metadata": {},
   "outputs": [],
   "source": [
    "aclp = AudioCLIP(pretrained=f'AudioCLIP/assets/{MODEL_FILENAME}')"
   ]
  },
  {
   "cell_type": "code",
   "execution_count": 39,
   "metadata": {},
   "outputs": [],
   "source": [
    "audio_transforms = ToTensor1D()\n",
    "\n",
    "image_transforms = tv.transforms.Compose([\n",
    "    tv.transforms.ToTensor(),\n",
    "    tv.transforms.Resize(IMAGE_SIZE, interpolation=Image.BICUBIC),\n",
    "    tv.transforms.CenterCrop(IMAGE_SIZE),\n",
    "    tv.transforms.Normalize(IMAGE_MEAN, IMAGE_STD)\n",
    "])"
   ]
  },
  {
   "cell_type": "code",
   "execution_count": 40,
   "metadata": {},
   "outputs": [],
   "source": [
    "def read_data(img_dir, audio_dir):\n",
    "    img_dir += \"*.jpg\"\n",
    "    audio_dir += \"*.wav\"\n",
    "    \n",
    "    paths_to_audio = glob.glob(audio_dir)\n",
    "\n",
    "    audio = list()\n",
    "    for path_to_audio in paths_to_audio:\n",
    "        track, _ = librosa.load(path_to_audio, sr=SAMPLE_RATE, dtype=np.float32)\n",
    "        # compute spectrograms using trained audio-head (fbsp-layer of ESResNeXt)\n",
    "        # thus, the actual time-frequency representation will be visualized\n",
    "        spec = aclp.audio.spectrogram(torch.from_numpy(track.reshape(1, 1, -1)))\n",
    "        spec = np.ascontiguousarray(spec.numpy()).view(np.complex64)\n",
    "        pow_spec = 10 * np.log10(np.abs(spec) ** 2 + 1e-18).squeeze()\n",
    "\n",
    "        audio.append((track, pow_spec))\n",
    "    \n",
    "    paths_to_images = glob.glob(img_dir)\n",
    "\n",
    "    images = list()\n",
    "    for path_to_image in paths_to_images:\n",
    "        with open(path_to_image, 'rb') as jpg:\n",
    "            image = simplejpeg.decode_jpeg(jpg.read())\n",
    "            images.append(image)\n",
    "    return images, audio"
   ]
  },
  {
   "cell_type": "code",
   "execution_count": 41,
   "metadata": {},
   "outputs": [],
   "source": [
    "def embedding(text = None, images = None, audio = None):\n",
    "    text_features = []\n",
    "    image_features = []\n",
    "    audio_features = []\n",
    "    \n",
    "    if audio != None: \n",
    "        audio = torch.stack([audio_transforms(track.reshape(1, -1)) for track, _ in audio])\n",
    "        ((audio_features, _, _), _), _ = aclp(audio=audio)\n",
    "        audio_features = audio_features / torch.linalg.norm(audio_features, dim=-1, keepdim=True)\n",
    "    if images != None:\n",
    "        images = torch.stack([image_transforms(image) for image in images])\n",
    "        ((_, image_features, _), _), _ = aclp(image=images)\n",
    "        image_features = image_features / torch.linalg.norm(image_features, dim=-1, keepdim=True)\n",
    "    if text != None:\n",
    "        text = [[label] for label in text]\n",
    "        ((_, _, text_features), _), _ = aclp(text=text)\n",
    "        text_features = text_features / torch.linalg.norm(text_features, dim=-1, keepdim=True)\n",
    "    return text_features, image_features, audio_features"
   ]
  },
  {
   "cell_type": "markdown",
   "metadata": {},
   "source": [
    "# VQGAN"
   ]
  },
  {
   "cell_type": "code",
   "execution_count": 42,
   "metadata": {},
   "outputs": [],
   "source": [
    "# Check for GPU and reduce the default image size if low VRAM\n",
    "default_image_size = 512  # >8GB VRAM\n",
    "if not torch.cuda.is_available():\n",
    "    default_image_size = 256  # no GPU found\n",
    "elif get_device_properties(0).total_memory <= 2 ** 33:  # 2 ** 33 = 8,589,934,592 bytes = 8 GB\n",
    "    default_image_size = 318  # <8GB VRAM"
   ]
  },
  {
   "cell_type": "code",
   "execution_count": 43,
   "metadata": {},
   "outputs": [],
   "source": [
    "prompts = None\n",
    "max_iterations = 500\n",
    "save_every = 50\n",
    "size = [256, 256]\n",
    "clip_model = 'ViT-B/32'\n",
    "vqgan_config = f'checkpoints/vqgan_imagenet_f16_16384.yaml'\n",
    "vqgan_checkpoint = f'checkpoints/vqgan_imagenet_f16_16384.ckpt'\n",
    "learning_rate = 0.1\n",
    "step_size = 0.1\n",
    "cut_method = 'latest'\n",
    "cutn = 32\n",
    "cut_pow = 1.0\n",
    "output = \"output.png\"\n",
    "augments = [['Af', 'Pe', 'Ji', 'Er']]\n",
    "cuda_device = \"cuda:0\"\n",
    "seed = None\n",
    "display_freq = 50"
   ]
  },
  {
   "cell_type": "code",
   "execution_count": 44,
   "metadata": {},
   "outputs": [],
   "source": [
    "if prompts == None:\n",
    "    prompts = \"A cute, smiling, Nerdy Rodent\"\n",
    "\n",
    "# Split text prompts using the pipe character (weights are split later)\n",
    "if prompts != None:\n",
    "    # For stories, there will be many phrases\n",
    "    story_phrases = [phrase.strip() for phrase in prompts.split(\"^\")]\n",
    "    \n",
    "    # Make a list of all phrases\n",
    "    all_phrases = []\n",
    "    for phrase in story_phrases:\n",
    "        all_phrases.append(phrase.split(\"|\"))\n",
    "    \n",
    "    # First phrase\n",
    "    prompts = all_phrases[0]"
   ]
  },
  {
   "cell_type": "code",
   "execution_count": 45,
   "metadata": {},
   "outputs": [],
   "source": [
    "if not cuda_device == 'cpu' and not torch.cuda.is_available():\n",
    "    cuda_device = 'cpu'\n",
    "    print(\"Warning: No GPU found! Using the CPU instead. The iterations will be slow.\")\n",
    "    print(\"Perhaps CUDA/ROCm or the right pytorch version is not properly installed?\")"
   ]
  },
  {
   "cell_type": "code",
   "execution_count": 46,
   "metadata": {},
   "outputs": [],
   "source": [
    "# Various functions and classes\n",
    "def sinc(x):\n",
    "    return torch.where(x != 0, torch.sin(math.pi * x) / (math.pi * x), x.new_ones([]))\n",
    "\n",
    "\n",
    "def lanczos(x, a):\n",
    "    cond = torch.logical_and(-a < x, x < a)\n",
    "    out = torch.where(cond, sinc(x) * sinc(x/a), x.new_zeros([]))\n",
    "    return out / out.sum()\n",
    "\n",
    "\n",
    "def ramp(ratio, width):\n",
    "    n = math.ceil(width / ratio + 1)\n",
    "    out = torch.empty([n])\n",
    "    cur = 0\n",
    "    for i in range(out.shape[0]):\n",
    "        out[i] = cur\n",
    "        cur += ratio\n",
    "    return torch.cat([-out[1:].flip([0]), out])[1:-1]\n",
    "\n",
    "# Used in older MakeCutouts\n",
    "def resample(input, size, align_corners=True):\n",
    "    n, c, h, w = input.shape\n",
    "    dh, dw = size\n",
    "\n",
    "    input = input.view([n * c, 1, h, w])\n",
    "\n",
    "    if dh < h:\n",
    "        kernel_h = lanczos(ramp(dh / h, 2), 2).to(input.device, input.dtype)\n",
    "        pad_h = (kernel_h.shape[0] - 1) // 2\n",
    "        input = F.pad(input, (0, 0, pad_h, pad_h), 'reflect')\n",
    "        input = F.conv2d(input, kernel_h[None, None, :, None])\n",
    "\n",
    "    if dw < w:\n",
    "        kernel_w = lanczos(ramp(dw / w, 2), 2).to(input.device, input.dtype)\n",
    "        pad_w = (kernel_w.shape[0] - 1) // 2\n",
    "        input = F.pad(input, (pad_w, pad_w, 0, 0), 'reflect')\n",
    "        input = F.conv2d(input, kernel_w[None, None, None, :])\n",
    "\n",
    "    input = input.view([n, c, h, w])\n",
    "    return F.interpolate(input, size, mode='bicubic', align_corners=align_corners)\n",
    "\n",
    "\n",
    "class ReplaceGrad(torch.autograd.Function):\n",
    "    @staticmethod\n",
    "    def forward(ctx, x_forward, x_backward):\n",
    "        ctx.shape = x_backward.shape\n",
    "        return x_forward\n",
    "\n",
    "    @staticmethod\n",
    "    def backward(ctx, grad_in):\n",
    "        return None, grad_in.sum_to_size(ctx.shape)\n",
    "\n",
    "replace_grad = ReplaceGrad.apply\n",
    "\n",
    "\n",
    "class ClampWithGrad(torch.autograd.Function):\n",
    "    @staticmethod\n",
    "    def forward(ctx, input, min, max):\n",
    "        ctx.min = min\n",
    "        ctx.max = max\n",
    "        ctx.save_for_backward(input)\n",
    "        return input.clamp(min, max)\n",
    "\n",
    "    @staticmethod\n",
    "    def backward(ctx, grad_in):\n",
    "        input, = ctx.saved_tensors\n",
    "        return grad_in * (grad_in * (input - input.clamp(ctx.min, ctx.max)) >= 0), None, None\n",
    "\n",
    "clamp_with_grad = ClampWithGrad.apply\n",
    "\n",
    "\n",
    "def vector_quantize(x, codebook):\n",
    "    d = x.pow(2).sum(dim=-1, keepdim=True) + codebook.pow(2).sum(dim=1) - 2 * x @ codebook.T\n",
    "    indices = d.argmin(-1)\n",
    "    x_q = F.one_hot(indices, codebook.shape[0]).to(d.dtype) @ codebook\n",
    "    return replace_grad(x_q, x)\n",
    "\n",
    "\n",
    "class Prompt(nn.Module):\n",
    "    def __init__(self, embed, weight=1., stop=float('-inf')):\n",
    "        super().__init__()\n",
    "        self.register_buffer('embed', embed)\n",
    "        self.register_buffer('weight', torch.as_tensor(weight))\n",
    "        self.register_buffer('stop', torch.as_tensor(stop))\n",
    "\n",
    "    def forward(self, input):\n",
    "        input_normed = F.normalize(input.unsqueeze(1), dim=2)\n",
    "        embed_normed = F.normalize(self.embed.unsqueeze(0), dim=2)\n",
    "        dists = input_normed.sub(embed_normed).norm(dim=2).div(2).arcsin().pow(2).mul(2)\n",
    "        dists = dists * self.weight.sign()\n",
    "        return self.weight.abs() * replace_grad(dists, torch.maximum(dists, self.stop)).mean()\n",
    "\n",
    "\n",
    "#NR: Split prompts and weights\n",
    "def split_prompt(prompt):\n",
    "    vals = prompt.rsplit(':', 2)\n",
    "    vals = vals + ['', '1', '-inf'][len(vals):]\n",
    "    return vals[0], float(vals[1]), float(vals[2])\n",
    "\n",
    "\n",
    "class MakeCutouts(nn.Module):\n",
    "    def __init__(self, cut_size, cutn, cut_pow=1.):\n",
    "        super().__init__()\n",
    "        self.cut_size = cut_size\n",
    "        self.cutn = cutn\n",
    "        self.cut_pow = cut_pow # not used with pooling\n",
    "        \n",
    "        # Pick your own augments & their order\n",
    "        augment_list = []\n",
    "        for item in augments[0]:\n",
    "            if item == 'Ji':\n",
    "                augment_list.append(K.ColorJitter(brightness=0.1, contrast=0.1, saturation=0.1, hue=0.1, p=0.7))\n",
    "            elif item == 'Sh':\n",
    "                augment_list.append(K.RandomSharpness(sharpness=0.3, p=0.5))\n",
    "            elif item == 'Gn':\n",
    "                augment_list.append(K.RandomGaussianNoise(mean=0.0, std=1., p=0.5))\n",
    "            elif item == 'Pe':\n",
    "                augment_list.append(K.RandomPerspective(distortion_scale=0.7, p=0.7))\n",
    "            elif item == 'Ro':\n",
    "                augment_list.append(K.RandomRotation(degrees=15, p=0.7))\n",
    "            elif item == 'Af':\n",
    "                augment_list.append(K.RandomAffine(degrees=15, translate=0.1, shear=5, p=0.7, padding_mode='zeros', keepdim=True)) # border, reflection, zeros\n",
    "            elif item == 'Et':\n",
    "                augment_list.append(K.RandomElasticTransform(p=0.7))\n",
    "            elif item == 'Ts':\n",
    "                augment_list.append(K.RandomThinPlateSpline(scale=0.8, same_on_batch=True, p=0.7))\n",
    "            elif item == 'Cr':\n",
    "                augment_list.append(K.RandomCrop(size=(self.cut_size,self.cut_size), pad_if_needed=True, padding_mode='reflect', p=0.5))\n",
    "            elif item == 'Er':\n",
    "                augment_list.append(K.RandomErasing(scale=(.1, .4), ratio=(.3, 1/.3), same_on_batch=True, p=0.7))\n",
    "            elif item == 'Re':\n",
    "                augment_list.append(K.RandomResizedCrop(size=(self.cut_size,self.cut_size), scale=(0.1,1),  ratio=(0.75,1.333), cropping_mode='resample', p=0.5))\n",
    "                \n",
    "        self.augs = nn.Sequential(*augment_list)\n",
    "        self.noise_fac = 0.1\n",
    "        # self.noise_fac = False\n",
    "\n",
    "        # Uncomment if you like seeing the list ;)\n",
    "        # print(augment_list)\n",
    "        \n",
    "        # Pooling\n",
    "        self.av_pool = nn.AdaptiveAvgPool2d((self.cut_size, self.cut_size))\n",
    "        self.max_pool = nn.AdaptiveMaxPool2d((self.cut_size, self.cut_size))\n",
    "\n",
    "    def forward(self, input):\n",
    "        cutouts = []\n",
    "        \n",
    "        for _ in range(self.cutn):            \n",
    "            # Use Pooling\n",
    "            cutout = (self.av_pool(input) + self.max_pool(input))/2\n",
    "            cutouts.append(cutout)\n",
    "            \n",
    "        batch = self.augs(torch.cat(cutouts, dim=0))\n",
    "        \n",
    "        if self.noise_fac:\n",
    "            facs = batch.new_empty([self.cutn, 1, 1, 1]).uniform_(0, self.noise_fac)\n",
    "            batch = batch + facs * torch.randn_like(batch)\n",
    "        return batch\n",
    "\n",
    "\n",
    "\n",
    "def load_vqgan_model(config_path, checkpoint_path):\n",
    "    global gumbel\n",
    "    gumbel = False\n",
    "    config = OmegaConf.load(config_path)\n",
    "    if config.model.target == 'taming.models.vqgan.VQModel':\n",
    "        model = vqgan.VQModel(**config.model.params)\n",
    "        model.eval().requires_grad_(False)\n",
    "        model.init_from_ckpt(checkpoint_path)\n",
    "    elif config.model.target == 'taming.models.vqgan.GumbelVQ':\n",
    "        model = vqgan.GumbelVQ(**config.model.params)\n",
    "        model.eval().requires_grad_(False)\n",
    "        model.init_from_ckpt(checkpoint_path)\n",
    "        gumbel = True\n",
    "    elif config.model.target == 'taming.models.cond_transformer.Net2NetTransformer':\n",
    "        parent_model = cond_transformer.Net2NetTransformer(**config.model.params)\n",
    "        parent_model.eval().requires_grad_(False)\n",
    "        parent_model.init_from_ckpt(checkpoint_path)\n",
    "        model = parent_model.first_stage_model\n",
    "    else:\n",
    "        raise ValueError(f'unknown model type: {config.model.target}')\n",
    "    del model.loss\n",
    "    return model\n",
    "\n",
    "\n",
    "def resize_image(image, out_size):\n",
    "    ratio = image.size[0] / image.size[1]\n",
    "    area = min(image.size[0] * image.size[1], out_size[0] * out_size[1])\n",
    "    size = round((area * ratio)**0.5), round((area / ratio)**0.5)\n",
    "    return image.resize(size, Image.LANCZOS)\n"
   ]
  },
  {
   "cell_type": "markdown",
   "metadata": {},
   "source": [
    "# Do It"
   ]
  },
  {
   "cell_type": "code",
   "execution_count": 47,
   "metadata": {},
   "outputs": [
    {
     "name": "stdout",
     "output_type": "stream",
     "text": [
      "Working with z of shape (1, 256, 16, 16) = 65536 dimensions.\n",
      "loaded pretrained LPIPS loss from taming/modules/autoencoder/lpips/vgg.pth\n",
      "VQLPIPSWithDiscriminator running with hinge loss.\n",
      "Restored from checkpoints/vqgan_imagenet_f16_16384.ckpt\n"
     ]
    }
   ],
   "source": [
    "# Do it\n",
    "device = torch.device(cuda_device)\n",
    "model = load_vqgan_model(vqgan_config, vqgan_checkpoint).to(device)\n",
    "jit = True if float(torch.__version__[:3]) < 1.8 else False\n",
    "perceptor = AudioCLIP(pretrained=f'AudioCLIP/assets/{MODEL_FILENAME}').eval().requires_grad_(False)"
   ]
  },
  {
   "cell_type": "code",
   "execution_count": 48,
   "metadata": {},
   "outputs": [],
   "source": [
    "cut_size = perceptor.visual.input_resolution\n",
    "f = 2**(model.decoder.num_resolutions - 1)\n",
    "\n",
    "make_cutouts = MakeCutouts(cut_size, cutn, cut_pow=cut_pow) \n",
    "\n",
    "toksX, toksY = size[0] // f, size[1] // f\n",
    "sideX, sideY = toksX * f, toksY * f\n",
    "\n",
    "# Gumbel or not?\n",
    "e_dim = model.quantize.e_dim\n",
    "n_toks = model.quantize.n_e\n",
    "z_min = model.quantize.embedding.weight.min(dim=0).values[None, :, None, None]\n",
    "z_max = model.quantize.embedding.weight.max(dim=0).values[None, :, None, None]"
   ]
  },
  {
   "cell_type": "code",
   "execution_count": 49,
   "metadata": {},
   "outputs": [
    {
     "data": {
      "text/plain": [
       "tensor([[[[ 5.0252e-05, -1.6552e-01,  5.9174e-05,  ..., -4.7090e-01,\n",
       "            3.5504e-05, -5.0189e-05],\n",
       "          [ 2.5590e-05,  2.7569e-05,  1.7726e-05,  ...,  5.3411e-05,\n",
       "            5.3250e-05, -5.5952e-05],\n",
       "          [ 3.6854e-05,  5.9643e-05,  1.5032e-05,  ...,  1.7748e-05,\n",
       "           -3.2809e-05, -5.7562e-05],\n",
       "          ...,\n",
       "          [-1.7216e-06,  1.0430e-05,  3.5685e-05,  ..., -3.4592e-05,\n",
       "           -6.3352e-01,  2.7986e-05],\n",
       "          [-5.9852e-05, -5.2041e-05, -5.8903e-05,  ..., -2.4681e-05,\n",
       "           -5.5364e-05, -8.1742e-06],\n",
       "          [ 6.1093e-06, -5.9514e-05,  4.9469e-05,  ...,  5.3190e-05,\n",
       "           -5.5134e-05, -5.2963e-05]],\n",
       "\n",
       "         [[ 1.8283e-05, -8.8932e-01, -1.6643e-05,  ..., -2.2948e-01,\n",
       "           -7.1460e-06,  3.5308e-05],\n",
       "          [-3.5940e-05,  5.8839e-05, -1.8777e-05,  ...,  1.6157e-05,\n",
       "            5.5181e-05,  5.4399e-06],\n",
       "          [-5.9265e-05,  4.1143e-05,  1.9130e-05,  ...,  3.5205e-05,\n",
       "           -5.2090e-05, -1.7246e-06],\n",
       "          ...,\n",
       "          [-1.0249e-06, -3.0768e-05,  5.5496e-05,  ...,  3.7909e-05,\n",
       "           -5.1820e-02,  2.2639e-05],\n",
       "          [ 6.0598e-05, -1.8198e-05, -3.1295e-05,  ..., -3.4653e-05,\n",
       "            3.4666e-05, -1.7404e-05],\n",
       "          [ 1.7940e-06, -2.0595e-05, -5.1114e-05,  ..., -3.8569e-06,\n",
       "           -4.4533e-05, -1.4332e-06]],\n",
       "\n",
       "         [[-5.6838e-06, -3.5683e-01,  3.4828e-05,  ...,  2.5084e-01,\n",
       "           -5.4837e-05,  4.2404e-05],\n",
       "          [-5.0512e-05,  2.7664e-05,  2.5982e-05,  ...,  3.2435e-06,\n",
       "           -1.7086e-05,  1.6517e-05],\n",
       "          [-5.3472e-05,  3.5969e-05, -4.1766e-05,  ..., -4.4607e-05,\n",
       "            2.0357e-05,  5.9259e-05],\n",
       "          ...,\n",
       "          [ 2.5888e-05,  4.9054e-05, -6.0905e-05,  ...,  1.3508e-05,\n",
       "            1.0488e+00,  3.1563e-05],\n",
       "          [ 1.3729e-05, -1.5423e-05,  5.4309e-05,  ...,  3.8346e-05,\n",
       "           -3.1883e-05, -5.7011e-05],\n",
       "          [ 4.3516e-05,  2.3457e-05, -5.3395e-05,  ...,  5.4439e-05,\n",
       "            4.2329e-05, -4.0783e-05]],\n",
       "\n",
       "         ...,\n",
       "\n",
       "         [[ 5.5361e-05, -5.6118e-01, -1.9281e-05,  ..., -2.4224e-01,\n",
       "            4.8683e-05,  1.6386e-05],\n",
       "          [-2.8670e-05, -5.2256e-05,  6.1016e-05,  ..., -5.9732e-05,\n",
       "            1.7195e-05,  2.3436e-05],\n",
       "          [ 5.0474e-05,  1.8445e-05,  5.2962e-05,  ...,  5.1406e-05,\n",
       "            5.1929e-07,  1.7269e-05],\n",
       "          ...,\n",
       "          [ 2.7391e-05,  2.4739e-05,  4.9251e-06,  ..., -5.3953e-05,\n",
       "           -1.8433e-01,  5.1221e-05],\n",
       "          [ 9.7294e-06,  1.8530e-05,  5.5420e-06,  ...,  1.5986e-05,\n",
       "           -4.7125e-05,  3.2642e-05],\n",
       "          [ 1.9626e-05, -2.5058e-05,  2.3297e-05,  ...,  3.4304e-05,\n",
       "            3.2830e-05, -5.6095e-05]],\n",
       "\n",
       "         [[-4.3237e-05, -3.0997e-01, -4.5275e-05,  ...,  2.0698e-01,\n",
       "            2.1843e-05, -5.8358e-05],\n",
       "          [ 5.5895e-05,  4.3881e-06,  1.8850e-05,  ..., -5.5131e-05,\n",
       "           -2.5917e-05,  1.4304e-05],\n",
       "          [-5.5544e-06,  3.5500e-05, -1.6657e-05,  ...,  5.7584e-05,\n",
       "           -2.2179e-05, -5.7879e-05],\n",
       "          ...,\n",
       "          [ 2.0509e-05, -7.9299e-06, -4.9969e-05,  ..., -3.0257e-05,\n",
       "            8.5837e-01,  1.6254e-05],\n",
       "          [ 8.4601e-06,  3.0462e-05, -1.2671e-05,  ..., -5.2276e-05,\n",
       "           -4.0296e-05,  3.0076e-05],\n",
       "          [-2.8529e-05, -5.2104e-07,  7.5926e-06,  ...,  1.0912e-05,\n",
       "            3.5180e-05, -3.2297e-06]],\n",
       "\n",
       "         [[-5.7692e-05,  1.5834e+00,  1.0972e-05,  ...,  5.2633e-01,\n",
       "            4.8259e-05,  1.3364e-05],\n",
       "          [-4.3009e-05, -2.1986e-05, -2.1859e-05,  ...,  1.5031e-05,\n",
       "           -3.5802e-05, -1.8464e-05],\n",
       "          [-2.2585e-05,  1.7376e-06, -1.8085e-05,  ..., -2.5128e-05,\n",
       "           -1.3400e-05, -3.0699e-05],\n",
       "          ...,\n",
       "          [-3.2877e-05,  1.3278e-05,  4.4372e-05,  ..., -5.3843e-05,\n",
       "           -6.1624e-01,  5.6630e-05],\n",
       "          [ 1.5977e-05, -4.7417e-05,  3.1290e-05,  ...,  3.8214e-05,\n",
       "           -7.6770e-06,  4.7691e-05],\n",
       "          [ 2.1371e-05, -3.1407e-05,  2.0711e-05,  ..., -3.4712e-06,\n",
       "           -3.4433e-05,  5.5165e-05]]]], device='cuda:0', requires_grad=True)"
      ]
     },
     "execution_count": 49,
     "metadata": {},
     "output_type": "execute_result"
    }
   ],
   "source": [
    "one_hot = F.one_hot(torch.randint(n_toks, [toksY * toksX], device=device), n_toks).float()\n",
    "z = one_hot @ model.quantize.embedding.weight\n",
    "\n",
    "z = z.view([-1, toksY, toksX, e_dim]).permute(0, 3, 1, 2) \n",
    "    #z = torch.rand_like(z)*2\t\t\t\t\t\t# NR: check\n",
    "\n",
    "z_orig = z.clone()\n",
    "z.requires_grad_(True)#Init Z\n",
    "one_hot = F.one_hot(torch.randint(n_toks, [toksY * toksX], device=device), n_toks).float()\n",
    "\n",
    "z = one_hot @ model.quantize.embedding.weight\n",
    "z = z.view([-1, toksY, toksX, e_dim]).permute(0, 3, 1, 2) \n",
    "\n",
    "z_orig = z.clone()\n",
    "z.requires_grad_(True)"
   ]
  },
  {
   "cell_type": "code",
   "execution_count": 50,
   "metadata": {},
   "outputs": [],
   "source": [
    "aclp = AudioCLIP(pretrained=f'AudioCLIP/assets/{MODEL_FILENAME}').eval().requires_grad_(False)\n",
    "_, audio = read_data(\"AudioCLIP/demo/images/\", \"sound/\")\n",
    "audio = [audio[0]]\n",
    "_, _, audio_rep = embedding(audio = audio)"
   ]
  },
  {
   "cell_type": "code",
   "execution_count": 51,
   "metadata": {},
   "outputs": [],
   "source": [
    "pMs = []\n",
    "normalize = transforms.Normalize(mean=[0.48145466, 0.4578275, 0.40821073],\n",
    "                                  std=[0.26862954, 0.26130258, 0.27577711])\n",
    "\n",
    "pMs.append(Prompt(audio_rep).to(device))"
   ]
  },
  {
   "cell_type": "code",
   "execution_count": 52,
   "metadata": {},
   "outputs": [],
   "source": [
    "opt = optim.Adam([z], lr= step_size)"
   ]
  },
  {
   "cell_type": "code",
   "execution_count": 53,
   "metadata": {},
   "outputs": [
    {
     "name": "stdout",
     "output_type": "stream",
     "text": [
      "Using device: cuda:0\n",
      "Optimising using: Adam (\n",
      "Parameter Group 0\n",
      "    amsgrad: False\n",
      "    betas: (0.9, 0.999)\n",
      "    eps: 1e-08\n",
      "    lr: 0.1\n",
      "    weight_decay: 0\n",
      ")\n"
     ]
    }
   ],
   "source": [
    "# Output for the user\n",
    "print('Using device:', device)\n",
    "print('Optimising using:', opt)"
   ]
  },
  {
   "cell_type": "code",
   "execution_count": 54,
   "metadata": {},
   "outputs": [
    {
     "name": "stdout",
     "output_type": "stream",
     "text": [
      "Using seed: 2853614806961294479\n"
     ]
    }
   ],
   "source": [
    "if seed is None:\n",
    "    seed = torch.seed()\n",
    "else:\n",
    "    seed = seed  \n",
    "torch.manual_seed(seed)\n",
    "print('Using seed:', seed)"
   ]
  },
  {
   "cell_type": "code",
   "execution_count": 64,
   "metadata": {},
   "outputs": [],
   "source": [
    "# Vector quantize\n",
    "def synth(z):\n",
    "    if gumbel:\n",
    "        z_q = vector_quantize(z.movedim(1, 3), model.quantize.embed.weight).movedim(3, 1)\n",
    "    else:\n",
    "        z_q = vector_quantize(z.movedim(1, 3), model.quantize.embedding.weight).movedim(3, 1)\n",
    "    return clamp_with_grad(model.decode(z_q).add(1).div(2), 0, 1)\n",
    "\n",
    "\n",
    "#@torch.no_grad()\n",
    "@torch.inference_mode()\n",
    "def checkin(i, losses):\n",
    "    losses_str = ', '.join(f'{loss.item():g}' for loss in losses)\n",
    "    tqdm.write(f'i: {i}, loss: {sum(losses).item():g}, losses: {losses_str}')\n",
    "    out = synth(z)\n",
    "    info = PngImagePlugin.PngInfo()\n",
    "    TF.to_pil_image(out[0].cpu()).save(output, pnginfo=info) \n",
    "    plt.imshow(TF.to_pil_image(out[0].cpu()))\n",
    "    \n",
    "def ascend_txt():\n",
    "    global i\n",
    "    out = synth(z)\n",
    "    iii = perceptor.encode_image(normalize(make_cutouts(out))).float()\n",
    "    \n",
    "    result = []\n",
    "    \n",
    "    for prompt in pMs:\n",
    "        result.append(prompt(iii))\n",
    "    return result # return loss\n",
    "\n"
   ]
  },
  {
   "cell_type": "code",
   "execution_count": 62,
   "metadata": {},
   "outputs": [],
   "source": [
    "def train(i):\n",
    "    opt.zero_grad(set_to_none=True)\n",
    "    lossAll = ascend_txt()\n",
    "    \n",
    "    if i % display_freq == 0:\n",
    "        checkin(i, lossAll)\n",
    "       \n",
    "    loss = sum(lossAll)\n",
    "    loss.backward()\n",
    "    opt.step()\n",
    "    \n",
    "    #with torch.no_grad():\n",
    "    with torch.inference_mode():\n",
    "        z.copy_(z.maximum(z_min).minimum(z_max))"
   ]
  },
  {
   "cell_type": "code",
   "execution_count": 63,
   "metadata": {},
   "outputs": [
    {
     "name": "stderr",
     "output_type": "stream",
     "text": [
      "0it [00:00, ?it/s]"
     ]
    },
    {
     "name": "stdout",
     "output_type": "stream",
     "text": [
      "i: 0, loss: 0.992272, losses: 0.992272\n"
     ]
    },
    {
     "name": "stderr",
     "output_type": "stream",
     "text": [
      "51it [00:10,  4.42it/s]"
     ]
    },
    {
     "name": "stdout",
     "output_type": "stream",
     "text": [
      "i: 50, loss: 0.886331, losses: 0.886331\n"
     ]
    },
    {
     "name": "stderr",
     "output_type": "stream",
     "text": [
      "101it [00:20,  4.55it/s]"
     ]
    },
    {
     "name": "stdout",
     "output_type": "stream",
     "text": [
      "i: 100, loss: 0.78775, losses: 0.78775\n"
     ]
    },
    {
     "name": "stderr",
     "output_type": "stream",
     "text": [
      "151it [00:30,  4.41it/s]"
     ]
    },
    {
     "name": "stdout",
     "output_type": "stream",
     "text": [
      "i: 150, loss: 0.776191, losses: 0.776191\n"
     ]
    },
    {
     "name": "stderr",
     "output_type": "stream",
     "text": [
      "201it [00:40,  4.26it/s]"
     ]
    },
    {
     "name": "stdout",
     "output_type": "stream",
     "text": [
      "i: 200, loss: 0.840171, losses: 0.840171\n"
     ]
    },
    {
     "name": "stderr",
     "output_type": "stream",
     "text": [
      "251it [00:50,  4.35it/s]"
     ]
    },
    {
     "name": "stdout",
     "output_type": "stream",
     "text": [
      "i: 250, loss: 0.781548, losses: 0.781548\n"
     ]
    },
    {
     "name": "stderr",
     "output_type": "stream",
     "text": [
      "301it [01:00,  4.32it/s]"
     ]
    },
    {
     "name": "stdout",
     "output_type": "stream",
     "text": [
      "i: 300, loss: 0.762815, losses: 0.762815\n"
     ]
    },
    {
     "name": "stderr",
     "output_type": "stream",
     "text": [
      "351it [01:10,  4.37it/s]"
     ]
    },
    {
     "name": "stdout",
     "output_type": "stream",
     "text": [
      "i: 350, loss: 0.826199, losses: 0.826199\n"
     ]
    },
    {
     "name": "stderr",
     "output_type": "stream",
     "text": [
      "401it [01:20,  4.28it/s]"
     ]
    },
    {
     "name": "stdout",
     "output_type": "stream",
     "text": [
      "i: 400, loss: 0.834311, losses: 0.834311\n"
     ]
    },
    {
     "name": "stderr",
     "output_type": "stream",
     "text": [
      "451it [01:30,  4.36it/s]"
     ]
    },
    {
     "name": "stdout",
     "output_type": "stream",
     "text": [
      "i: 450, loss: 0.733761, losses: 0.733761\n"
     ]
    },
    {
     "name": "stderr",
     "output_type": "stream",
     "text": [
      "500it [01:41,  4.94it/s]\n"
     ]
    },
    {
     "name": "stdout",
     "output_type": "stream",
     "text": [
      "i: 500, loss: 0.724361, losses: 0.724361\n"
     ]
    },
    {
     "data": {
      "image/png": "[encoded data removed]",
      "text/plain": [
       "<Figure size 432x288 with 1 Axes>"
      ]
     },
     "metadata": {
      "needs_background": "light"
     },
     "output_type": "display_data"
    }
   ],
   "source": [
    "perceptor.cuda()\n",
    "i = 0 # Iteration counter\n",
    "\n",
    "# Do it\n",
    "try:\n",
    "    with tqdm() as pbar:\n",
    "        while True:            \n",
    "           \n",
    "            train(i)\n",
    "            \n",
    "            # Ready to stop yet?\n",
    "            if i == max_iterations:\n",
    "                break\n",
    "                \n",
    "            i += 1\n",
    "            pbar.update()\n",
    "except KeyboardInterrupt:\n",
    "    pass"
   ]
  },
  {
   "cell_type": "code",
   "execution_count": null,
   "metadata": {},
   "outputs": [],
   "source": []
  }
 ],
 "metadata": {
  "kernelspec": {
   "display_name": "audio-clip",
   "language": "python",
   "name": "audio-clip"
  },
  "language_info": {
   "codemirror_mode": {
    "name": "ipython",
    "version": 3
   },
   "file_extension": ".py",
   "mimetype": "text/x-python",
   "name": "python",
   "nbconvert_exporter": "python",
   "pygments_lexer": "ipython3",
   "version": "3.7.11"
  }
 },
 "nbformat": 4,
 "nbformat_minor": 4
}
